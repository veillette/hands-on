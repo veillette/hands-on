{
  "cells": [
    {
      "cell_type": "markdown",
      "metadata": {
        "id": "view-in-github",
        "colab_type": "text"
      },
      "source": [
        "<a href=\"https://colab.research.google.com/github/veillette/hands-on/blob/main/scripts/CreateFigures.ipynb\" target=\"_parent\"><img src=\"https://colab.research.google.com/assets/colab-badge.svg\" alt=\"Open In Colab\"/></a>"
      ]
    },
    {
      "cell_type": "markdown",
      "source": [
        "# Figures for textbook: Hands-On Advanced Physics: Lab Essentials\n",
        "\n",
        "The Figures are divided by Chapters and Appendices."
      ],
      "metadata": {
        "id": "qabUh4LnQxEC"
      },
      "id": "qabUh4LnQxEC"
    },
    {
      "cell_type": "markdown",
      "source": [
        "Import libraries"
      ],
      "metadata": {
        "id": "KF2-FHIQRPqZ"
      },
      "id": "KF2-FHIQRPqZ"
    },
    {
      "cell_type": "code",
      "execution_count": null,
      "id": "2a32a562",
      "metadata": {
        "id": "2a32a562"
      },
      "outputs": [],
      "source": [
        "import numpy as np\n",
        "import matplotlib.pyplot as plt\n",
        "from scipy.optimize import curve_fit\n",
        "from scipy import stats as st\n",
        "import matplotlib.patches as patches\n",
        "\n",
        "plt.rcParams[\"figure.figsize\"] = (10, 10)\n",
        "plt.rcParams.update({'font.size': 18})"
      ]
    },
    {
      "cell_type": "markdown",
      "source": [
        "# Chapters"
      ],
      "metadata": {
        "id": "1gVyQWfHSyyw"
      },
      "id": "1gVyQWfHSyyw"
    },
    {
      "cell_type": "markdown",
      "id": "add1ca15",
      "metadata": {
        "id": "add1ca15"
      },
      "source": [
        "## Chapter 2"
      ]
    },
    {
      "cell_type": "code",
      "execution_count": null,
      "id": "43ca3016",
      "metadata": {
        "id": "43ca3016"
      },
      "outputs": [],
      "source": [
        "x = np.linspace(0.5,1.25,100)\n",
        "y = x**2\n",
        "\n",
        "x1 = np.linspace(0,0.9,10)\n",
        "hline1 = np.ones(len(x1))*0.81\n",
        "x2 = np.linspace(0,1,10)\n",
        "hline2 = np.ones(len(x2))\n",
        "x3 = np.linspace(0,1.09, 10)\n",
        "hline3 = np.ones(len(x3))*1.19\n",
        "arr_width=0.005\n",
        "plt.plot(x1,hline1, '-k')\n",
        "plt.plot(x2,hline2, '-k')\n",
        "plt.plot(x3,hline3, '-k')\n",
        "plt.stem([0.9, 1, 1.09], [0.81, 1, 1.19], linefmt='-k',markerfmt='-k', basefmt='-k', bottom=0)\n",
        "plt.xlim(0,1.3)\n",
        "plt.ylim(0,2.0)\n",
        "plt.xlabel('x')\n",
        "#plt.ylabel('z')\n",
        "plt.annotate(r'$x_o$', xy=(1, 1.), xytext=(0.76, -0.04), textcoords='axes fraction')\n",
        "plt.annotate(r'$z_o$', xy=(1, 1.), xytext=(-0.04, 0.5), textcoords='axes fraction')\n",
        "plt.annotate('z', xy=(1, 1.), xytext=(-0.04, 0.95), textcoords='axes fraction')\n",
        "#vertical arrow\n",
        "plt.arrow(0.5, 1, 0, 0.145, color='black', width = arr_width, head_width = 3 * arr_width, head_length = 9 * arr_width)\n",
        "plt.arrow(0.5, 1.19, 0, -0.145, color='black', width = arr_width, head_width = 3 * arr_width, head_length = 9 * arr_width)\n",
        "plt.annotate(r'$\\delta z$', xy=(0.35, 1.145), xytext=(0.30, 0.53), textcoords='axes fraction')\n",
        "#horizontal arrow\n",
        "plt.arrow(1, 0.5, 0.05, 0, color='black', width = arr_width, head_width = 3 * arr_width, head_length = 9 * arr_width)\n",
        "plt.arrow(1.09, 0.5, -0.05, 0, color='black', width = arr_width, head_width = 3 * arr_width, head_length = 9 * arr_width)\n",
        "plt.annotate(r'$\\delta x$', xy=(1, 1.), xytext=(0.79, 0.27), textcoords='axes fraction')\n",
        "plt.plot(x,y, '-r', lw=5, label='z=f(x)')\n",
        "plt.legend()\n",
        "plt.tick_params(labelleft=False, left=True, labelbottom=False)\n",
        "plt.savefig('Fig2_1.png')\n",
        "plt.show()"
      ]
    },
    {
      "cell_type": "markdown",
      "id": "ca9e6e47",
      "metadata": {
        "id": "ca9e6e47"
      },
      "source": [
        "## Chapter 3"
      ]
    },
    {
      "cell_type": "code",
      "execution_count": null,
      "id": "76987fe9",
      "metadata": {
        "id": "76987fe9"
      },
      "outputs": [],
      "source": [
        "#We can generate our own random set of integers\n",
        "#randomints = np.random.normal(100, 10, 100).round().astype(np.int)\n",
        "#Here are the sorted integers from the text\n",
        "observes = np.array([85,92,96,97,97,97,100,101,101,102,102,103,103,105,106,106,107,108,108,109,109,110,110,111,111,111,111,111,112,112,112,113,113,113,113,113,113,114,114,114,114,115,116,116,116,117,117,118,118,119,119,120,120,120,120,121,121,121,121,122,122,122,122,122,123,123,123,123,123,124, 124,124,125,125,125,126,127,127,127,127,128,128,128,128,128,128,130,130,130,130,130,130,131,131,131,131,132,133,134,134,134,134,135,136,137,137,137,144,148,149])\n",
        "print(\"Number of data points = \",len(observes))\n",
        "\n",
        "plt.hist(observes, bins=range(80, 160, 10), edgecolor='black', color='r',linewidth=2)\n",
        "plt.xlabel('Value')\n",
        "plt.ylabel('Frequency')\n",
        "plt.xlim(0, 160)\n",
        "plt.ylim(0, 40)\n",
        "plt.savefig('Fig3_1.png')\n",
        "plt.show()"
      ]
    },
    {
      "cell_type": "code",
      "execution_count": null,
      "id": "234d0835",
      "metadata": {
        "id": "234d0835"
      },
      "outputs": [],
      "source": [
        "ave = np.mean(observes)\n",
        "med = np.median(observes)\n",
        "mode = st.mode(observes)\n",
        "\n",
        "print(ave, med, mode)\n",
        "arr_width = 0.5\n",
        "plt.hist(observes, bins=range(80, 160, 10), edgecolor='black', color='r',linewidth=2)\n",
        "plt.xlabel('Value')\n",
        "plt.ylabel('Frequency')\n",
        "plt.xlim(0, 160)\n",
        "plt.ylim(0, 43)\n",
        "plt.arrow(119, 35, 0, -3, color='black', width = arr_width, head_width = 3 * arr_width, head_length = 3 * arr_width)\n",
        "plt.annotate('Mean = 119', xy=(119, 30.), xytext=(0.5, 0.78), textcoords='axes fraction')\n",
        "plt.arrow(120, 40, 0, -3, color='black', width = arr_width, head_width = 3 * arr_width, head_length = 3 * arr_width)\n",
        "plt.annotate('Median = 120', xy=(120, 30.), xytext=(0.5, 0.87), textcoords='axes fraction')\n",
        "plt.arrow(125, 42, 0, -5, color='black', width = arr_width, head_width = 3 * arr_width, head_length = 3 * arr_width)\n",
        "plt.annotate('Mode = 125', xy=(119, 30.), xytext=(0.56, 0.95), textcoords='axes fraction')\n",
        "plt.savefig('Fig3_2.png')\n",
        "plt.show()"
      ]
    },
    {
      "cell_type": "code",
      "execution_count": null,
      "id": "9b14ba82",
      "metadata": {
        "id": "9b14ba82"
      },
      "outputs": [],
      "source": [
        "s1 = 4\n",
        "s2 = 10\n",
        "s3 =25\n",
        "x33 = np.linspace(0,100, 1000)\n",
        "y1 = 1/(s1*np.sqrt(2*np.pi))*np.exp(-0.5*((x33-50)/s1)**2)\n",
        "y2 = 1/(s2*np.sqrt(2*np.pi))*np.exp(-0.5*((x33-50)/s2)**2)\n",
        "y3 = 1/(s3*np.sqrt(2*np.pi))*np.exp(-0.5*((x33-50)/s3)**2)\n",
        "\n",
        "plt.plot(x33, y1, '-r', label=r'${\\rm large~} h{\\rm , small~} \\sigma$')\n",
        "plt.plot(x33, y2, '--b', label=r'${\\rm medium~} h{\\rm , medium~} \\sigma$')\n",
        "plt.plot(x33, y3, '-.g', label=r'${\\rm small~} h{\\rm , large~} \\sigma$')\n",
        "plt.tick_params(labelleft=False, left=True, labelbottom=False)\n",
        "plt.legend()\n",
        "plt.xlabel('x')\n",
        "plt.ylabel('frequency')\n",
        "plt.xlim(0,110)\n",
        "plt.savefig('Fig3_3.png')\n",
        "plt.show()"
      ]
    },
    {
      "cell_type": "code",
      "execution_count": null,
      "id": "77beb8bd",
      "metadata": {
        "id": "77beb8bd"
      },
      "outputs": [],
      "source": [
        "sigx=np.array([30, 40, 50, 60, 70])\n",
        "sigy=1/(s2*np.sqrt(2*np.pi))*np.exp(-0.5*((sigx-50)/s2)**2)\n",
        "labels = [r'$2\\sigma$', r'$\\sigma$', r'$\\bar{x}$', r'$\\sigma$',r'$2\\sigma$']\n",
        "\n",
        "fig, ax = plt.subplots(1,1)\n",
        "ax.bar(sigx, sigy, color='k', width=0.25, bottom=None)\n",
        "ax.plot(x33, y2, '-k', label=r'${\\rm medium~} h{\\rm , medium~} \\sigma$')\n",
        "ax.tick_params(labelleft=False, left=False, labelbottom=True)\n",
        "#ax.xlabel('x')\n",
        "#ax.ylabel('y')\n",
        "ax.set_xticks(sigx)\n",
        "ax.set_xticklabels(labels, minor=False, rotation=0)\n",
        "#plt.xticks(sigx, labels, rotation='vertical')\n",
        "fig.savefig('Fig3_4.png')\n",
        "plt.show()"
      ]
    },
    {
      "cell_type": "code",
      "execution_count": null,
      "id": "c7880e47",
      "metadata": {
        "id": "c7880e47"
      },
      "outputs": [],
      "source": [
        "#gaussians for observations and sample means\n",
        "s1 = 15 # sample observations\n",
        "s2 = s1/np.sqrt(5)\n",
        "x35 = np.linspace(0,100, 1000)\n",
        "ysamp = np.exp(-0.5*((x35-50)/s1)**2)\n",
        "ymean = np.exp(-0.5*((x35-50)/s2)**2)\n",
        "\n",
        "sigx=np.array([50-s2, 50, 50+s1])\n",
        "sigy=np.exp(-0.5*((sigx-50)/s1)**2)\n",
        "sigy[0] = np.exp(-0.5*((s2)/s2)**2)\n",
        "labels = [r'$\\sigma_m$', r'$\\bar{x}$', r'$\\sigma$']\n",
        "\n",
        "fig, ax = plt.subplots(1,1)\n",
        "ax.bar(sigx, sigy, color='k', width=0.25, bottom=None)\n",
        "ax.plot(x35, ysamp, '-.r', label='Single Observations')\n",
        "ax.plot(x35, ymean, '-b', label='Sample Means')\n",
        "ax.tick_params(labelleft=False, left=False, labelbottom=True)\n",
        "ax.set_xlabel('x')\n",
        "ax.set_ylabel('Frequency')\n",
        "ax.set_xticks(sigx)\n",
        "ax.set_xticklabels(labels, minor=False, rotation=0)\n",
        "ax.legend()\n",
        "#plt.xticks(sigx, labels, rotation='vertical')\n",
        "plt.savefig('Fig3_5.png')\n",
        "plt.show()"
      ]
    },
    {
      "cell_type": "code",
      "execution_count": null,
      "id": "6a1814f0",
      "metadata": {
        "id": "6a1814f0"
      },
      "outputs": [],
      "source": [
        "plt.rcParams.update({'font.size': 18})\n",
        "#Figure 3-6 will be a lot like Figure 3-4 above.\n",
        "#For the arrows and annotations, look at Figure 2-1.\n",
        "#gaussians for standard deviations\n",
        "s1 = 15 # sigma_s\n",
        "x36 = np.linspace(0,100, 1000)\n",
        "sig = np.exp(-0.5*((x36-50)/s1)**2)\n",
        "\n",
        "sigx=np.array([50-s1, 50, 50+s1])\n",
        "sigy=np.exp(-0.5*((sigx-50)/s1)**2)\n",
        "labels = [r'$\\sigma - \\sigma_s$', r'$\\sigma$', r'$\\sigma + \\sigma_s$']\n",
        "#sigy[0] = np.exp(-0.5*((s2)/s2)**2)\n",
        "\n",
        "fig, ax = plt.subplots(1,1)\n",
        "ax.bar(sigx, sigy, color='k', width=0.25, bottom=None)\n",
        "ax.plot(x36, sig, '-.r', label='Sample Standard Deviations')\n",
        "ax.tick_params(labelleft=False, left=False, labelbottom=True)\n",
        "ax.set_xlabel('s')\n",
        "ax.set_ylabel('Frequency')\n",
        "ax.set_xticks(sigx)\n",
        "ax.set_xticklabels(labels, minor=False, rotation=0)\n",
        "#ax.legend()\n",
        "#plt.xticks(sigx, labels, rotation='vertical')\n",
        "plt.savefig('Fig3_6.png')\n",
        "plt.show()"
      ]
    },
    {
      "cell_type": "code",
      "execution_count": null,
      "id": "779156a9",
      "metadata": {
        "id": "779156a9"
      },
      "outputs": [],
      "source": [
        "plt.rcParams.update({'font.size': 12})\n",
        "#Figure 3-7 will need to use subplots.\n",
        "s = np.linspace(0,100, 1000)\n",
        "sigma = 70#I'm not sure what value to use.\n",
        "sig1 = np.exp(-0.5*((s-50)/(sigma/14))**2)#Gaussian with sigma/14\n",
        "sig2 = np.exp(-0.5*((s-50)/(sigma/4))**2)#Gaussian with sigma/4\n",
        "sig3 = np.exp(-0.5*((s-50)/(sigma/2))**2)#Gaussian with sigma/2\n",
        "\n",
        "sig1x = np.array([50-sigma/14, 50, 50+sigma/14])\n",
        "sig1y = np.exp(-0.5*((sig1x-50)/(sigma/14))**2)\n",
        "\n",
        "sig2x=np.array([50-sigma/4, 50, 50+sigma/4])\n",
        "sig2y=np.exp(-0.5*((sig2x-50)/(sigma/4))**2)\n",
        "\n",
        "sig3x=np.array([50-sigma/2, 50, 50+sigma/2])\n",
        "sig3y=np.exp(-0.5*((sig3x-50)/(sigma/2))**2)\n",
        "\n",
        "labels1 = [r'$\\sigma$']\n",
        "labels2 = [r'$\\sigma-\\sigma/4$', r'$\\sigma$', r'$\\sigma+\\sigma/4$']\n",
        "labels3 = [r'$\\sigma-\\sigma/2$', r'$\\sigma$', r'$\\sigma+\\sigma/2$']\n",
        "arr_width=0.001\n",
        "ax1 = plt.subplot(221)\n",
        "# add a subplot with no frame\n",
        "ax2 = plt.subplot(222)\n",
        "ax3 = plt.subplot(224)\n",
        "\n",
        "ax1.bar(sig1x, sig1y, color='k', width=0.25, bottom=None)\n",
        "ax1.plot(s, sig1, label=r'$n=100$')\n",
        "ax1.legend()\n",
        "ax1.tick_params(labelleft=False, left=False, labelbottom=True)\n",
        "ax1.set_xlabel('s')\n",
        "ax1.set_ylabel('Frequency')\n",
        "ax1.set_xticks([50])\n",
        "ax1.set_xticklabels(labels1, minor=False, rotation=0)\n",
        "ax1.arrow(50, sig1y[0], sigma/14, 0, color='black', width = arr_width, head_width = 3 * arr_width, head_length = 9 * arr_width)\n",
        "ax1.annotate(r'$\\sigma-\\sigma/14$', xy=(1, 1.), xytext=(0.2, 0.55), textcoords='axes fraction')\n",
        "ax1.arrow(50, sig1y[0], -sigma/14, 0, color='black', width = arr_width, head_width = 3 * arr_width, head_length = 9 * arr_width)\n",
        "ax1.annotate(r'$\\sigma+\\sigma/14$', xy=(1, 1.), xytext=(0.6, 0.55), textcoords='axes fraction')\n",
        "ax2.bar(sig2x, sig2y, color='k', width=0.25, bottom=None)\n",
        "ax2.plot(s, sig2, label=r'$n=10$')\n",
        "ax2.legend()\n",
        "ax2.tick_params(labelleft=False, left=False, labelbottom=True)\n",
        "ax2.set_xlabel('s')\n",
        "ax2.set_ylabel('Frequency')\n",
        "ax2.set_xticks(sig2x)\n",
        "ax2.set_xticklabels(labels2, minor=False, rotation=0)\n",
        "ax3.bar(sig3x, sig3y, color='k', width=0.25, bottom=None)\n",
        "ax3.plot(s, sig3, label=r'$n=3$')\n",
        "ax3.legend()\n",
        "ax3.tick_params(labelleft=False, left=False, labelbottom=True)\n",
        "ax3.set_xlabel('s')\n",
        "ax3.set_ylabel('Frequency')\n",
        "ax3.set_xticks(sig3x)\n",
        "ax3.set_xticklabels(labels3, minor=False, rotation=0)\n",
        "plt.savefig('Fig3_7.png', dpi=600)\n",
        "plt.show()"
      ]
    },
    {
      "cell_type": "markdown",
      "id": "75595042",
      "metadata": {
        "id": "75595042"
      },
      "source": [
        "## Chapter 4"
      ]
    },
    {
      "cell_type": "code",
      "execution_count": null,
      "id": "6e2e05b0",
      "metadata": {
        "id": "6e2e05b0"
      },
      "outputs": [],
      "source": [
        "plt.rcParams.update({'font.size': 18})\n",
        "load = np.arange(0.05, 0.5, 0.05)\n",
        "extension = np.array([0.03, 0.04,0.08,0.13,0.19,0.3,0.34,0.38,0.39])\n",
        "exerr = np.ones(len(load))*0.01\n",
        "\n",
        "plt.errorbar(load, extension, fmt='ok', yerr=exerr)\n",
        "plt.xlabel('Load (kg)')\n",
        "plt.ylabel('Extension (m)')\n",
        "plt.savefig('Fig4_1.png')\n",
        "plt.show()"
      ]
    },
    {
      "cell_type": "code",
      "execution_count": null,
      "id": "e2b7f6c2",
      "metadata": {
        "id": "e2b7f6c2"
      },
      "outputs": [],
      "source": [
        "load = np.arange(0.05, 0.5, 0.05)\n",
        "extension = np.array([0.03, 0.04,0.08,0.13,0.19,0.3,0.34,0.38,0.39])\n",
        "exerr = np.ones(len(load))*0.01\n",
        "\n",
        "smth_extx = np.arange(0.04, 0.51, 0.001)\n",
        "smth_exty = 0.42/(1+np.exp(-15.5*(smth_extx-0.25)))#0.5*6*smth_extx**2\n",
        "#smth_exty[300:600] += -0.5*3*smth_extx[0:300]**2\n",
        "\n",
        "plt.errorbar(load, extension, fmt='ok', yerr=exerr)\n",
        "plt.plot(smth_extx, smth_exty, '-k')\n",
        "plt.xlabel('Load (kg)')\n",
        "plt.ylabel('Extension (m)')\n",
        "plt.savefig('Fig4_2.png')\n",
        "plt.show()"
      ]
    },
    {
      "cell_type": "code",
      "execution_count": null,
      "id": "17ee7d9d",
      "metadata": {
        "id": "17ee7d9d"
      },
      "outputs": [],
      "source": [
        "load = np.arange(0.05, 0.5, 0.05)\n",
        "extension = np.array([0.03, 0.04,0.08,0.13,0.19,0.3,0.34,0.38,0.39])\n",
        "exerr = np.ones(len(load))*0.01\n",
        "\n",
        "smth_extx = np.arange(0.04, 0.51, 0.001)\n",
        "smth_exty = 0.42/(1+np.exp(-15.5*(smth_extx-0.25)))#0.5*6*smth_extx**2\n",
        "xx = np.array([0.0, 0.27])\n",
        "hline = np.array([0.42/(1+np.exp(-15.5*(0.27-0.25))), 0.42/(1+np.exp(-15.5*(0.27-0.25)))])\n",
        "\n",
        "plt.errorbar(load, extension, fmt='ok', yerr=exerr)\n",
        "plt.plot(smth_extx, smth_exty, '-k')\n",
        "plt.plot(xx,hline, '-.k')\n",
        "plt.stem([0.27], 0.42/(1+np.exp(-15.5*(0.27-0.25))), linefmt='-.k',markerfmt='-k', basefmt='-k', bottom=0)\n",
        "plt.xlabel('Load (kg)')\n",
        "plt.ylabel('Extension (m)')\n",
        "plt.xlim(0, 0.55)\n",
        "plt.ylim(0, 0.45)\n",
        "plt.savefig('Fig4_3.png')\n",
        "plt.show()"
      ]
    },
    {
      "cell_type": "code",
      "execution_count": null,
      "id": "9df9b251",
      "metadata": {
        "id": "9df9b251"
      },
      "outputs": [],
      "source": [
        "load = np.arange(0.05, 0.5, 0.05)\n",
        "extension = np.array([0.03, 0.04,0.08,0.13,0.19,0.3,0.34,0.38,0.39])\n",
        "exerr = np.ones(len(load))*0.01\n",
        "\n",
        "smth_extx = np.arange(0.04, 0.51, 0.001)\n",
        "smth_exty = 0.42/(1+np.exp(-15.5*(smth_extx-0.25)))#0.5*6*smth_extx**2\n",
        "xx = np.array([0.0, 0.5])\n",
        "hline = np.array([0.42/(1+np.exp(-15.5*(0.5-0.25))), 0.42/(1+np.exp(-15.5*(0.5-0.25)))])\n",
        "\n",
        "plt.errorbar(load, extension, fmt='ok', yerr=exerr)\n",
        "plt.plot(smth_extx, smth_exty, '-k')\n",
        "plt.plot(xx,hline, '-.k')\n",
        "plt.stem([0.5], 0.42/(1+np.exp(-15.5*(0.5-0.25))), linefmt='-.k',markerfmt='-k', basefmt='-k', bottom=0)\n",
        "plt.xlabel('Load (kg)')\n",
        "plt.ylabel('Extension (m)')\n",
        "plt.xlim(0, 0.55)\n",
        "plt.ylim(0, 0.45)\n",
        "plt.savefig('Fig4_4.png')\n",
        "plt.show()"
      ]
    },
    {
      "cell_type": "code",
      "execution_count": null,
      "id": "dd47b117",
      "metadata": {
        "id": "dd47b117"
      },
      "outputs": [],
      "source": [
        "load = np.arange(0.05, 0.3, 0.05)\n",
        "extension = np.array([0.022, 0.04,0.08,0.13,0.21])\n",
        "exerr = np.ones(len(load))*0.01\n",
        "\n",
        "smth_extx = np.arange(0.04, 0.51, 0.001)\n",
        "smth_exty1 = 0.42/(1+np.exp(-15.5*(smth_extx-0.25)))\n",
        "smth_exty2 = 5*np.arange(0.25, 0.35, 0.001)**2-0.1\n",
        "smth_exty3 = 0.42/(1+np.exp(-10*(np.arange(0.25, 0.5, 0.001)-0.25)))\n",
        "smth_exty4 = 1.8*np.arange(0.25, 0.4, 0.001)-0.24\n",
        "\n",
        "plt.errorbar(load, extension, fmt='ok', yerr=exerr)\n",
        "plt.plot(smth_extx, smth_exty1, '-k')\n",
        "plt.plot(np.arange(0.25, 0.35, 0.001), smth_exty2, '-k')\n",
        "plt.plot(np.arange(0.25, 0.5, 0.001), smth_exty3, '-k')\n",
        "plt.plot(np.arange(0.25, 0.4, 0.001), smth_exty4, '-k')\n",
        "plt.annotate('?', xy=(0.4, 0.5), xytext=(0.75, 0.8), textcoords='axes fraction')\n",
        "plt.tick_params(labelleft=False, left=False, bottom=False, labelbottom=False)\n",
        "plt.savefig('Fig4_5.png')\n",
        "plt.show()"
      ]
    },
    {
      "cell_type": "code",
      "execution_count": null,
      "id": "73136a12",
      "metadata": {
        "id": "73136a12"
      },
      "outputs": [],
      "source": [
        "load = np.arange(0.05, 0.25, 0.05)\n",
        "extension = np.array([0.019, 0.039,0.075,0.132])\n",
        "exerr = np.ones(len(load))*0.01\n",
        "\n",
        "smth_extx = np.arange(0.04, 0.22, 0.001)\n",
        "smth_exty = 0.42/(1+np.exp(-15.5*(smth_extx-0.25)))#0.5*6*smth_extx**2\n",
        "xx = np.array([0.0, 0.13])\n",
        "hline = np.array([0.42/(1+np.exp(-15.5*(0.13-0.25))), 0.42/(1+np.exp(-15.5*(0.13-0.25)))])\n",
        "\n",
        "plt.errorbar(load, extension, fmt='ok', yerr=exerr)\n",
        "plt.plot(smth_extx, smth_exty, '-k')\n",
        "plt.plot(xx,hline, '-.k')\n",
        "plt.stem([0.13], 0.42/(1+np.exp(-15.5*(0.13-0.25))), linefmt='-.k',markerfmt='-k', basefmt='-k', bottom=0)\n",
        "plt.xlabel('Time')\n",
        "plt.ylabel('Temperature')\n",
        "plt.tick_params(labelleft=False, left=True, bottom=True, labelbottom=False)\n",
        "plt.xlim(0, 0.24)\n",
        "plt.ylim(0, 0.18)\n",
        "plt.savefig('Fig4_6.png')\n",
        "plt.show()"
      ]
    },
    {
      "cell_type": "code",
      "execution_count": null,
      "id": "b54754c5",
      "metadata": {
        "id": "b54754c5"
      },
      "outputs": [],
      "source": [
        "x47 = np.arange(0.05, 0.4, 0.05)\n",
        "y47 = np.array([0.1, 0.22, 0.25, 0.31, 0.39, 0.45, 0.47])\n",
        "\n",
        "plt.plot(x47, y47, '-ok')\n",
        "plt.tick_params(labelleft=False, left=False, bottom=False, labelbottom=False)\n",
        "plt.savefig('Fig4_7.png')\n",
        "plt.show()"
      ]
    },
    {
      "cell_type": "code",
      "execution_count": null,
      "id": "8d7cccd5",
      "metadata": {
        "id": "8d7cccd5"
      },
      "outputs": [],
      "source": [
        "plt.rcParams[\"figure.figsize\"] = (10, 10)\n",
        "distance = np.array([0.1,0.2,0.3,0.4,0.5,0.6,0.7,0.8])\n",
        "time = np.array([0.148,0.196,0.244,0.290,0.315,0.352,0.385,0.403])\n",
        "t_unc = np.ones(len(time))*0.01\n",
        "\n",
        "plt.errorbar(distance, time, fmt='ok', yerr=t_unc)\n",
        "plt.xlabel('Distance (m)')\n",
        "plt.ylabel('Time (s)')\n",
        "plt.savefig('Fig4_8.png')\n",
        "plt.xlim(0,0.82)\n",
        "plt.ylim(0,0.42)\n",
        "plt.show()"
      ]
    },
    {
      "cell_type": "code",
      "execution_count": null,
      "id": "3d15e88e",
      "metadata": {
        "id": "3d15e88e"
      },
      "outputs": [],
      "source": [
        "plt.rcParams[\"figure.figsize\"] = (10, 14)\n",
        "distance = np.array([0.1,0.2,0.3,0.4,0.5,0.6,0.7,0.8])\n",
        "time = np.array([0.148,0.196,0.244,0.290,0.315,0.352,0.385,0.403])\n",
        "t_unc = np.ones(len(time))*0.01\n",
        "\n",
        "def pow_fit(x, a, b):\n",
        "    return a*x**b\n",
        "\n",
        "fit_params, fit_cov = curve_fit(pow_fit, distance, time, sigma=t_unc, absolute_sigma=True)\n",
        "xx = np.linspace(0.0, 0.9, 500)\n",
        "yy = pow_fit(xx, fit_params[0], fit_params[1])\n",
        "\n",
        "ax1 = plt.subplot(311)\n",
        "ax2 = plt.subplot(312)\n",
        "ax3 = plt.subplot(313)\n",
        "\n",
        "ax1.errorbar(distance, time, fmt='ok', ms=3, yerr=t_unc)\n",
        "#ax1.set_xlabel('s')\n",
        "ax1.set_ylabel('Time (s)')\n",
        "ax1.set_xlim(0,0.82)\n",
        "ax1.set_ylim(0,0.42)\n",
        "ax1.annotate('(a)', xy=(0.4, 0.02), xytext=(0.9, 0.1), textcoords='axes fraction')\n",
        "ax2.plot(xx, yy, '-k', label='fit')\n",
        "ax2.set_xlabel('s')\n",
        "ax2.set_ylabel('Time (s)')\n",
        "ax2.annotate('(b)', xy=(0.4, 0.02), xytext=(0.9, 0.1), textcoords='axes fraction')\n",
        "ax2.set_xlim(0,0.82)\n",
        "ax2.set_ylim(0,0.42)\n",
        "ax3.errorbar(distance, time, fmt='ok', ms=3, yerr=t_unc)\n",
        "ax3.plot(xx, yy, '-k')\n",
        "ax3.set_xlabel('Distance (m)')\n",
        "ax3.set_ylabel('Time (s)')\n",
        "ax3.set_xlim(0,0.82)\n",
        "ax3.set_ylim(0,0.42)\n",
        "ax3.annotate('(c)', xy=(0.4, 0.02), xytext=(0.9, 0.1), textcoords='axes fraction')\n",
        "plt.savefig('Fig4_9.png')\n",
        "plt.show()"
      ]
    },
    {
      "cell_type": "code",
      "execution_count": null,
      "id": "d2a30b84",
      "metadata": {
        "id": "d2a30b84"
      },
      "outputs": [],
      "source": [
        "plt.rcParams[\"figure.figsize\"] = (10, 10)\n",
        "distance = np.array([0.1,0.2,0.3,0.4,0.5,0.6,0.7,0.8])\n",
        "time = np.array([0.148,0.196,0.244,0.290,0.315,0.352,0.385,0.403])\n",
        "t_unc = np.ones(len(time))*0.01\n",
        "\n",
        "def pow_fit(x, a, b):\n",
        "    return a*x**b\n",
        "\n",
        "fit_params, fit_cov = curve_fit(pow_fit, distance, time, sigma=t_unc, absolute_sigma=True)\n",
        "xx = np.linspace(0.0, 0.9, 500)\n",
        "yy = pow_fit(xx, fit_params[0], fit_params[1])\n",
        "\n",
        "ax1 = plt.subplot(211)\n",
        "ax2 = plt.subplot(212)\n",
        "\n",
        "ax1.errorbar(distance, time, fmt='ok', ms=3, yerr=t_unc)\n",
        "#ax1.set_xlabel('s')\n",
        "ax1.plot(xx, yy, '-k', label='fit')\n",
        "ax1.set_xlabel('Distance (m)')\n",
        "ax1.set_ylabel('Time (s)')\n",
        "ax1.annotate('(a)', xy=(0.4, 0.02), xytext=(0.9, 0.1), textcoords='axes fraction')\n",
        "ax1.set_xlim(0,0.82)\n",
        "ax1.set_ylim(0,0.42)\n",
        "ax2.errorbar(distance**0.5, time, fmt='ok', ms=3, yerr=t_unc)\n",
        "ax2.plot(xx**0.5, yy, '-k')\n",
        "ax2.set_xlabel(r'Distance$^{1/2}$ (m$^{1/2}$)')\n",
        "ax2.set_ylabel('Time (s)')\n",
        "ax2.set_xlim(0,0.82)\n",
        "ax2.set_ylim(0,0.42)\n",
        "ax2.annotate('(b)', xy=(0.4, 0.02), xytext=(0.9, 0.1), textcoords='axes fraction')\n",
        "plt.savefig('Fig4_10.png')\n",
        "plt.show()"
      ]
    },
    {
      "cell_type": "code",
      "execution_count": null,
      "id": "ea99bd42",
      "metadata": {
        "id": "ea99bd42"
      },
      "outputs": [],
      "source": [
        "plt.rcParams.update({'font.size': 12})\n",
        "#Figure 3-7 will need to use subplots.\n",
        "x = np.arange(0.1, 1.1, 0.1)\n",
        "x2 =np.arange(0.0, 1.2, 0.1)\n",
        "y = x+np.random.rand(len(x))/15\n",
        "y1 = 0.25*x2\n",
        "y2 = 0.5*x2\n",
        "y3 = 0.75*x2\n",
        "y4 = 1*x2 #B\n",
        "y5 = 1.333*x2\n",
        "y6 = 2*x2 #A\n",
        "y7 = 5*x2\n",
        "y8 = 0.909*x2\n",
        "y9 = 1.1*x2\n",
        "y10 = 1.15*x2\n",
        "\n",
        "arr_width=0.001\n",
        "ax1 = plt.subplot(221)\n",
        "# add a subplot with no frame\n",
        "ax2 = plt.subplot(222)\n",
        "ax3 = plt.subplot(224)\n",
        "\n",
        "ax1.errorbar(x, y, yerr=0.075, fmt='ok')\n",
        "ax1.tick_params(labelleft=False, left=False, bottom=False, labelbottom=False)\n",
        "ax1.set_xlabel('Load')\n",
        "ax1.set_ylabel('Extension')\n",
        "ax1.set_xlim(0,1.1)\n",
        "ax1.set_ylim(0,1.25)\n",
        "ax1.annotate('(a)', xy=(1, 1.), xytext=(0.05, 0.9), textcoords='axes fraction')\n",
        "#ax2.errorbar(x, y, yerr=0.1, fmt='ok')\n",
        "ax2.plot(x2, y1, '-k')\n",
        "ax2.plot(x2, y2, '-k')\n",
        "ax2.plot(x2, y3, '-k')\n",
        "ax2.plot(x2, y4, '-k')\n",
        "ax2.plot(x2, y5, '-k')\n",
        "ax2.plot(x2, y6, '-k')\n",
        "ax2.plot(x2, y7, '-k')\n",
        "ax2.tick_params(labelleft=False, left=False, bottom=False, labelbottom=False)\n",
        "ax2.set_xlabel('Load')\n",
        "ax2.set_ylabel('Extension')\n",
        "ax2.set_xlim(0,1.1)\n",
        "ax2.set_ylim(0,1.25)\n",
        "ax2.annotate('(b)', xy=(1, 1.), xytext=(0.05, 0.9), textcoords='axes fraction')\n",
        "ax3.errorbar(x, y, yerr=0.1, fmt='ok')\n",
        "ax3.plot(x2, y1, '-k')\n",
        "ax3.plot(x2, y2, '-k')\n",
        "ax3.plot(x2, y3, '-k')\n",
        "ax3.plot(x2, y4, '-k')\n",
        "ax3.plot(x2, y5, '-k')\n",
        "ax3.plot(x2, y6, '-k')\n",
        "ax3.plot(x2, y7, '-k')\n",
        "ax3.plot(x2, y8, '--k')\n",
        "ax3.plot(x2, y9, '-k')\n",
        "ax3.plot(x2, y10, '--k')\n",
        "ax3.tick_params(labelleft=False, left=False, bottom=False, labelbottom=False)\n",
        "ax3.set_xlabel('Load')\n",
        "ax3.set_ylabel('Extension')\n",
        "ax3.set_xlim(0,1.1)\n",
        "ax3.set_ylim(0,1.25)\n",
        "ax3.annotate('(c)', xy=(1, 1.), xytext=(0.05, 0.9), textcoords='axes fraction')\n",
        "ax3.annotate('A', xy=(1, 1.), xytext=(0.4, 0.8), textcoords='axes fraction')\n",
        "ax3.annotate('D', xy=(1, 1.), xytext=(0.8, 0.87), textcoords='axes fraction')\n",
        "ax3.annotate('C', xy=(1, 1.), xytext=(0.9, 0.68), textcoords='axes fraction')\n",
        "ax3.annotate('B', xy=(1, 1.), xytext=(0.95, 0.45), textcoords='axes fraction')\n",
        "ax3.annotate('O', xy=(1, 1.), xytext=(-0.05, -0.05), textcoords='axes fraction')\n",
        "plt.savefig('Fig4_11.png', dpi=600)\n",
        "plt.show()"
      ]
    },
    {
      "cell_type": "markdown",
      "source": [],
      "metadata": {
        "id": "0K25EBWFPdy4"
      },
      "id": "0K25EBWFPdy4"
    },
    {
      "cell_type": "markdown",
      "id": "cb0a281c",
      "metadata": {
        "id": "cb0a281c"
      },
      "source": [
        "## Chapter 5"
      ]
    },
    {
      "cell_type": "code",
      "execution_count": null,
      "id": "38016542",
      "metadata": {
        "id": "38016542"
      },
      "outputs": [],
      "source": [
        "g = 9.8\n",
        "k = 1\n",
        "h = np.linspace(-1.75, 1.75, 20)\n",
        "T = 2*np.pi*np.sqrt((h**2+k**2)/(g*np.abs(h)))\n",
        "Texp = T + T*(np.random.rand(20)-0.5)/10\n",
        "hfunc = np.linspace(0.08, 1.75, 1000)\n",
        "T = 2*np.pi*np.sqrt((hfunc**2+k**2)/(g*hfunc))\n",
        "xline = np.linspace(-1.5, 1.5, 20)\n",
        "hline = np.ones(20)*2*np.pi*np.sqrt((1.5**2+k**2)/(g*1.5))\n",
        "print(hline[0])\n",
        "\n",
        "plt.plot(h, Texp, 'ok')\n",
        "plt.plot(-hfunc, T, '-k')\n",
        "plt.plot(hfunc, T, '-k')\n",
        "plt.plot(xline, hline, '--r')\n",
        "plt.axvline(0, color='k', linestyle='-')\n",
        "plt.tick_params(labelleft=False, left=True, labelbottom=False)\n",
        "plt.annotate('(b)', xy=(-1.5, 2.95), xytext=(0.05, 0.9), textcoords='axes fraction')\n",
        "plt.annotate('A', xy=(-1.5, 2.95), xytext=(0.074, 0.055), textcoords='axes fraction')\n",
        "plt.annotate('C', xy=(-1.5, 2.95), xytext=(0.33, 0.055), textcoords='axes fraction')\n",
        "plt.annotate('B', xy=(-1.5, 2.95), xytext=(0.63, 0.055), textcoords='axes fraction')\n",
        "plt.annotate('D', xy=(-1.5, 2.95), xytext=(0.9, 0.055), textcoords='axes fraction')\n",
        "plt.xlabel('h')\n",
        "plt.ylabel('T')\n",
        "plt.savefig('Fig5_1b.png')\n",
        "plt.show()"
      ]
    },
    {
      "cell_type": "markdown",
      "metadata": {
        "id": "b0e61f53"
      },
      "source": [
        "## Chapter 6"
      ],
      "id": "b0e61f53"
    },
    {
      "cell_type": "code",
      "execution_count": null,
      "metadata": {
        "id": "71379e76"
      },
      "outputs": [],
      "source": [
        "plt.rcParams.update({'font.size': 12})\n",
        "#Figure will need to use subplots.\n",
        "x = np.arange(0.0, 1.1, 0.05)\n",
        "y1 = x+(np.random.rand(len(x))-0.5)/15\n",
        "y2 = x+(np.random.rand(len(x))-0.5)/15\n",
        "y2[16:len(y2)] = np.array([0.78, 0.8, 0.82, 0.825, 0.823, 0.824])\n",
        "y3 = x+(np.random.rand(len(x))-0.5)/15\n",
        "y3[0:8] = np.array([0.25, 0.26, 0.262, 0.27, 0.275, 0.32, 0.34, 0.4])\n",
        "y4 = x+np.random.rand(len(x))/15 + 0.25\n",
        "y5 = x+np.random.rand(len(x))/15 - 0.25\n",
        "y6 = x+(np.random.rand(len(x)) - 0.5)\n",
        "y7 = np.array([0.12, 0.15, 0.18, 0.2, 0.24, 0.27, 0.30, 0.31, 0.32, 0.33, 0.31, 0.3, 0.28, 0.26, 0.24, 0.2, 0.17, 0.13, 0.1, 0.07, 0.06, 0.062])\n",
        "print(len(x))\n",
        "\n",
        "# add a subplot with no frame\n",
        "ax1 = plt.subplot(421)\n",
        "ax2 = plt.subplot(422)\n",
        "ax3 = plt.subplot(423)\n",
        "ax4 = plt.subplot(424)\n",
        "ax5 = plt.subplot(425)\n",
        "ax6 = plt.subplot(426)\n",
        "ax7 = plt.subplot(428)\n",
        "\n",
        "ax1.errorbar(x, y1, yerr=0.05, fmt='ok')\n",
        "ax1.plot(x, x, '-k')\n",
        "ax1.tick_params(labelleft=False, left=False, bottom=False, labelbottom=False)\n",
        "#ax1.set_xlim(0,1.1)\n",
        "#ax1.set_ylim(0,1.25)\n",
        "ax1.annotate('(a)', xy=(1, 1.), xytext=(0.05, 0.9), textcoords='axes fraction')\n",
        "ax2.errorbar(x, y2, yerr=0.05, fmt='ok')\n",
        "ax2.plot(x, x, '-k')\n",
        "ax2.tick_params(labelleft=False, left=False, bottom=False, labelbottom=False)\n",
        "#ax2.set_xlim(0,1.1)\n",
        "#ax2.set_ylim(0,1.25)\n",
        "ax2.annotate('(b)', xy=(1, 1.), xytext=(0.05, 0.9), textcoords='axes fraction')\n",
        "ax3.errorbar(x, y3, yerr=0.05, fmt='ok')\n",
        "ax3.plot(x, x, '-k')\n",
        "ax3.tick_params(labelleft=False, left=False, bottom=False, labelbottom=False)\n",
        "#ax3.set_xlim(0,1.1)\n",
        "#ax3.set_ylim(0,1.25)\n",
        "ax3.annotate('(c)', xy=(1, 1.), xytext=(0.05, 0.9), textcoords='axes fraction')\n",
        "ax4.errorbar(x, y4, yerr=0.05, fmt='ok')\n",
        "ax4.plot(x, x, '-k')\n",
        "ax4.tick_params(labelleft=False, left=False, bottom=False, labelbottom=False)\n",
        "#ax4.set_xlim(0,1.1)\n",
        "#ax4.set_ylim(0,1.25)\n",
        "ax4.annotate('(d)', xy=(1, 1.), xytext=(0.05, 0.9), textcoords='axes fraction')\n",
        "\n",
        "ax5.errorbar(x, y5, yerr=0.05, fmt='ok')\n",
        "ax5.plot(x, x, '-k')\n",
        "ax5.tick_params(labelleft=False, left=False, bottom=False, labelbottom=False)\n",
        "#ax5.set_xlim(0,1.1)\n",
        "#ax5.set_ylim(0,1.25)\n",
        "ax5.annotate('(e)', xy=(1, 1.), xytext=(0.05, 0.9), textcoords='axes fraction')\n",
        "\n",
        "ax6.errorbar(x, y6, yerr=0.05, fmt='ok')\n",
        "ax6.plot(x, x, '-k')\n",
        "ax6.tick_params(labelleft=False, left=False, bottom=False, labelbottom=False)\n",
        "#ax6.set_xlim(0,1.1)\n",
        "#ax6.set_ylim(0,1.25)\n",
        "ax6.annotate('(f)', xy=(1, 1.), xytext=(0.05, 0.9), textcoords='axes fraction')\n",
        "\n",
        "ax7.errorbar(x, y7, yerr=0.05, fmt='ok')\n",
        "ax7.plot(x, x, '-k')\n",
        "ax7.tick_params(labelleft=False, left=False, bottom=False, labelbottom=False)\n",
        "#ax7.set_xlim(0,1.1)\n",
        "#ax7.set_ylim(0,1.25)\n",
        "ax7.annotate('(g)', xy=(1, 1.), xytext=(0.05, 0.9), textcoords='axes fraction')\n",
        "\n",
        "plt.savefig('Fig6_1.png')\n",
        "plt.show()"
      ],
      "id": "71379e76"
    },
    {
      "cell_type": "code",
      "execution_count": null,
      "metadata": {
        "id": "baf2f7c9"
      },
      "outputs": [],
      "source": [
        "x = np.arange(0.05, 1.1, 0.05)\n",
        "ya = x+(np.random.rand(len(x))-0.5)/15\n",
        "yb = x+(np.random.rand(len(x))-0.5)/2\n",
        "y1 = x\n",
        "y2 = 1.2*x + 0.3\n",
        "y3 = 0.8*x - 0.3\n",
        "\n",
        "ax1 = plt.subplot(211)\n",
        "ax2 = plt.subplot(212)\n",
        "\n",
        "ax1.errorbar(x, ya, yerr=0.075, fmt='ok')\n",
        "#ax1.plot(x, x, '-k')\n",
        "ax1.tick_params(labelleft=False, left=False, bottom=False, labelbottom=False)\n",
        "ax1.annotate('(a)', xy=(1, 1.), xytext=(0.05, 0.9), textcoords='axes fraction')\n",
        "\n",
        "ax2.errorbar(x, yb, yerr=0.1, fmt='ok')\n",
        "ax2.plot(x, y1, '-k')\n",
        "ax2.plot(x, y2, '-k')\n",
        "ax2.plot(x, y3, '-k')\n",
        "ax2.tick_params(labelleft=False, left=False, bottom=False, labelbottom=False)\n",
        "ax2.annotate('(b)', xy=(1, 1.), xytext=(0.05, 0.9), textcoords='axes fraction')\n",
        "ax2.annotate('A', xy=(1, 1), xytext=(0.02, 0.2), textcoords='axes fraction')\n",
        "ax2.annotate('B', xy=(1, 1.), xytext=(0.97, 0.7), textcoords='axes fraction')\n",
        "ax2.annotate('C', xy=(1, 1.), xytext=(0.02, 0.02), textcoords='axes fraction')\n",
        "ax2.annotate('D', xy=(1, 1.), xytext=(0.97, 0.44), textcoords='axes fraction')\n",
        "ax2.annotate('E', xy=(1, 1.), xytext=(0.02, 0.38), textcoords='axes fraction')\n",
        "ax2.annotate('F', xy=(1, 1.), xytext=(0.97, 0.96), textcoords='axes fraction')\n",
        "ax3.set_xlim(-0.2,1.2)\n",
        "ax3.set_ylim(0,1.2)\n",
        "plt.savefig('Fig6_2.png')\n",
        "plt.show()"
      ],
      "id": "baf2f7c9"
    },
    {
      "cell_type": "code",
      "execution_count": null,
      "metadata": {
        "id": "efbd1c29"
      },
      "outputs": [],
      "source": [
        "plt.rcParams[\"figure.figsize\"] = (10, 10)\n",
        "plt.rcParams.update({'font.size': 18})\n",
        "R=100\n",
        "curr=np.linspace(1,10, 10)\n",
        "volt = curr*R + (np.random.rand(len(curr))-0.5)*50#curr*R/10\n",
        "\n",
        "fit1 = curr*R\n",
        "fit2 = 0.85*curr*R + 100\n",
        "fit3 = 1.15*curr*R - 100\n",
        "\n",
        "dotsx = np.array([1,1,1,10,10,10])\n",
        "dotsy = np.array([fit1[0],fit2[0], fit3[0], fit1[9], fit2[9],fit3[9]])\n",
        "\n",
        "plt.errorbar(curr, volt, yerr=50, fmt='+k')\n",
        "plt.plot(curr, fit1, '-k')\n",
        "plt.plot(curr, fit2, '-k')\n",
        "plt.plot(curr, fit3, '-k')\n",
        "plt.plot(dotsx, dotsy, 'ok')\n",
        "plt.tick_params(labelleft=False, left=False, bottom=False, labelbottom=False)\n",
        "plt.annotate('A', xy=(1, 1), xytext=(0.08, 0.11), textcoords='axes fraction')\n",
        "plt.annotate('B', xy=(1, 1.), xytext=(0.9, 0.87), textcoords='axes fraction')\n",
        "plt.annotate('C', xy=(1, 1.), xytext=(0.08, 0.04), textcoords='axes fraction')\n",
        "plt.annotate('D', xy=(1, 1.), xytext=(0.9, 0.92), textcoords='axes fraction')\n",
        "plt.annotate('E', xy=(1, 1.), xytext=(0.08, 0.18), textcoords='axes fraction')\n",
        "plt.annotate('F', xy=(1, 1.), xytext=(0.9, 0.82), textcoords='axes fraction')\n",
        "plt.annotate(r'($I_i, V_i$)', xy=(1, 1.), xytext=(0.01, 0.01), textcoords='axes fraction')\n",
        "plt.annotate(r'($I_f, V_f$)', xy=(1, 1.), xytext=(.9, .96), textcoords='axes fraction')\n",
        "plt.xlabel('I')\n",
        "plt.ylabel('V')\n",
        "plt.xlim(-0.5, 11.5)\n",
        "plt.ylim(-50, 1150)\n",
        "plt.savefig('Fig6_3.png')\n",
        "plt.show()"
      ],
      "id": "efbd1c29"
    },
    {
      "cell_type": "code",
      "execution_count": null,
      "metadata": {
        "id": "0c10f6d3"
      },
      "outputs": [],
      "source": [
        "#y = curr*R + (np.random.rand(len(curr))-0.5)*200#curr*R/10\n",
        "#y[6]+=100\n",
        "plt.plot(curr, y, 'ok')\n",
        "plt.plot(curr, fit1, '-k')\n",
        "plt.vlines(curr[1:5], fit1[1:5], y[1:5], 'k')\n",
        "plt.tick_params(labelleft=False, left=False, bottom=False, labelbottom=False)\n",
        "plt.annotate('A', xy=(0, 0), xytext=(0.5, 50), textcoords='data')\n",
        "plt.annotate('B', xy=(0, 0), xytext=(10.25, 1025), textcoords='data')\n",
        "plt.annotate(r'$P_1$', xy=(0, 0), xytext=(curr[1]-0.20, y[1]+25), textcoords='data')\n",
        "plt.annotate(r'$Q_1$', xy=(0, 0), xytext=(curr[1]-0.20, fit1[1]-50), textcoords='data')\n",
        "plt.annotate(r'$P_2$', xy=(0, 0), xytext=(curr[3]-0.20, y[3]+25), textcoords='data')\n",
        "plt.annotate(r'$Q_2$', xy=(0, 0), xytext=(curr[3]-0.20, fit1[3]-50), textcoords='data')\n",
        "plt.xlim(0,11)\n",
        "plt.ylim(0, 1100)\n",
        "plt.savefig('Fig6_4.png')\n",
        "plt.show()"
      ],
      "id": "0c10f6d3"
    },
    {
      "cell_type": "code",
      "execution_count": null,
      "metadata": {
        "id": "18652240"
      },
      "outputs": [],
      "source": [
        "x65 = np.linspace(0,10,11)\n",
        "#y65 = -np.cos(2*np.pi*x65/20+0.2)+1+ (np.random.rand(len(x65))-0.5)/10\n",
        "line65 = x65/5\n",
        "\n",
        "plt.plot(x65, y65, 'ok')\n",
        "plt.plot(x65, line65, '-k')\n",
        "plt.tick_params(labelleft=False, left=False, bottom=False, labelbottom=False)\n",
        "plt.annotate('A', xy=(0, 0), xytext=(-0.25, -0.05), textcoords='data')\n",
        "plt.annotate('B', xy=(0, 0), xytext=(10.2, 2), textcoords='data')\n",
        "plt.xlim(-0.35,11)\n",
        "plt.ylim(-0.1, 2.1)\n",
        "plt.savefig('Fig6_5.png')\n",
        "plt.show()\n"
      ],
      "id": "18652240"
    },
    {
      "cell_type": "code",
      "execution_count": null,
      "metadata": {
        "id": "ef3058f6"
      },
      "outputs": [],
      "source": [
        "plt.rcParams[\"figure.figsize\"] = (10, 15)\n",
        "plt.rcParams.update({'font.size': 18})\n",
        "\n",
        "x66 = np.linspace(0,10,31)\n",
        "y66a = x66\n",
        "y66b = x66*(0.25+(np.random.rand(len(x66))-0.5)*1)\n",
        "\n",
        "ax1 = plt.subplot(211)\n",
        "ax2 = plt.subplot(212)\n",
        "\n",
        "ax1.plot(x66, y66a, 'sk')\n",
        "ax1.tick_params(labelleft=False, left=False, bottom=False, labelbottom=False)\n",
        "ax1.annotate('(a)', xy=(1, 1.), xytext=(0.05, 0.9), textcoords='axes fraction')\n",
        "\n",
        "ax2.plot(x66, y66b, '^k')\n",
        "ax2.tick_params(labelleft=False, left=False, bottom=False, labelbottom=False)\n",
        "ax2.annotate('(b)', xy=(1, 1.), xytext=(0.05, 0.9), textcoords='axes fraction')\n",
        "plt.savefig('Fig6_6.png')\n",
        "plt.show()"
      ],
      "id": "ef3058f6"
    },
    {
      "cell_type": "code",
      "execution_count": null,
      "metadata": {
        "id": "cac810f0"
      },
      "outputs": [],
      "source": [
        "plt.rcParams[\"figure.figsize\"] = (10, 10)\n",
        "plt.rcParams.update({'font.size': 18})\n",
        "\n",
        "x67 = np.linspace(0,50,51)\n",
        "y67 = x67+np.random.randint(0, high=50, size=len(x67))\n",
        "\n",
        "\n",
        "plt.plot(x67, y67, 'ok')\n",
        "plt.xlabel('Time (sec)')\n",
        "plt.ylabel('Number of Counts')\n",
        "plt.savefig('Fig6_7.png')\n",
        "plt.show()"
      ],
      "id": "cac810f0"
    },
    {
      "cell_type": "code",
      "execution_count": null,
      "metadata": {
        "id": "b05ad9c0"
      },
      "outputs": [],
      "source": [
        "plt.rcParams[\"figure.figsize\"] = (10, 10)\n",
        "plt.rcParams.update({'font.size': 18})\n",
        "load = np.arange(0.05, 0.5, 0.05)\n",
        "extension = np.array([0.03, 0.04,0.08,0.13,0.19,0.3,0.34,0.38,0.39])\n",
        "exerr = np.ones(len(load))*0.01\n",
        "\n",
        "plt.errorbar(load, extension, fmt='ok', yerr=exerr)\n",
        "plt.xlabel('Load (kg)')\n",
        "plt.ylabel('Extension (m)')\n",
        "plt.title('Extension of Rubber with Load')\n",
        "plt.savefig('Fig6_8.png')\n",
        "plt.show()"
      ],
      "id": "b05ad9c0"
    },
    {
      "cell_type": "code",
      "execution_count": null,
      "metadata": {
        "id": "6a0f2206"
      },
      "outputs": [],
      "source": [
        "#plt.rcParams[\"figure.figsize\"] = (10, 10)\n",
        "distance = np.array([0.1,0.2,0.3,0.4,0.5,0.6,0.7,0.8])\n",
        "time = np.array([0.148,0.196,0.244,0.290,0.315,0.352,0.385,0.403])\n",
        "t_unc = np.ones(len(time))*0.005\n",
        "x_theory = np.linspace(0,1,11)\n",
        "y_theory = 0.4515*x_theory**0.5\n",
        "\n",
        "plt.errorbar(distance**0.5, time, fmt='ok', yerr=t_unc)\n",
        "plt.plot(x_theory**0.5, y_theory, '-k')\n",
        "plt.xlabel('Distance (m)')\n",
        "plt.ylabel('Time (s)')\n",
        "plt.title('Time vs. Square Root of Distance')\n",
        "#plt.xlim(0,0.82)\n",
        "#plt.ylim(0,0.42)\n",
        "plt.savefig('Fig6_9.png')\n",
        "plt.show()"
      ],
      "id": "6a0f2206"
    },
    {
      "cell_type": "code",
      "execution_count": null,
      "metadata": {
        "id": "2b0f468a"
      },
      "outputs": [],
      "source": [
        "def line_fit(x, m, b):\n",
        "    return m*x + b\n",
        "\n",
        "fit_params, fit_cov = curve_fit(line_fit, distance**0.5, time, sigma=t_unc, absolute_sigma=True)\n",
        "xx = np.linspace(0.0, 1., 51)\n",
        "yy = line_fit(xx, fit_params[0], fit_params[1])\n",
        "# Calculate the terms in the correlation coefficient\n",
        "ave = np.mean(time)\n",
        "SSres = np.sum((line_fit(distance**0.5, fit_params[0], fit_params[1])-time)**2)\n",
        "SStot = np.sum((time-np.mean(time))**2)\n",
        "# Calculate the correlation coefficient\n",
        "R2 = 1-SSres/SStot\n",
        "# Print the good stuff\n",
        "print('[m, b] = ', fit_params)\n",
        "print('[[S_m, Smb], [Sbm, Sb]] = ', np.abs(fit_cov)**0.5)\n",
        "print('R^2 = ', R2)\n",
        "\n",
        "\n",
        "plt.errorbar(distance**0.5, time, fmt='ok', yerr=t_unc)\n",
        "plt.plot(xx, yy, '-k')\n",
        "plt.xlabel('Distance (m)')\n",
        "plt.ylabel('Time (s)')\n",
        "plt.title('Time vs. Square Root of Distance')\n",
        "#plt.xlim(0,0.82)\n",
        "#plt.ylim(0,0.42)\n",
        "plt.savefig('Fig6_11.png')\n",
        "plt.show()"
      ],
      "id": "2b0f468a"
    },
    {
      "cell_type": "code",
      "execution_count": null,
      "metadata": {
        "id": "0c97bd30"
      },
      "outputs": [],
      "source": [
        "#Functions\n",
        "def linef(x, m, b):\n",
        "    return m*x + b\n",
        "\n",
        "def expf(x, a, b):\n",
        "    return a*np.exp(b*x)\n",
        "\n",
        "def logf(x, a, b):\n",
        "    return a*np.log(b*x)\n",
        "\n",
        "def powerf(x, a, b):\n",
        "    return a*x**b\n",
        "\n",
        "def sigf(x, a0, a1, a2, a3):\n",
        "    return a0 + a1/(1+np.exp(-(x-a2)/a3))\n",
        "\n",
        "def poly3f(x, a, b, c, d):\n",
        "    return a + b*x + c*x**2 + d*x**3\n",
        "\n",
        "def poly6f(x, a, b, c, d, e, f, g):\n",
        "    return a + b*x + c*x**2 + d*x**3 + e*x**4 + f*x**5 + g*x**6\n"
      ],
      "id": "0c97bd30"
    },
    {
      "cell_type": "code",
      "execution_count": null,
      "metadata": {
        "id": "1477db09"
      },
      "outputs": [],
      "source": [
        "plt.rcParams.update({'font.size': 12})\n",
        "plt.rcParams[\"figure.figsize\"] = (10, 15)\n",
        "#Figure will need to use subplots.\n",
        "#Using load and extension (exerr) as data\n",
        "xfit = np.linspace(0.001, 0.5, 201)\n",
        "line_params, line_cov = curve_fit(linef, load, extension, sigma=exerr, absolute_sigma=True)\n",
        "yline = line_params[0]*xfit + line_params[1]\n",
        "exp_params, exp_cov = curve_fit(expf, load, extension, sigma=exerr, absolute_sigma=True)\n",
        "yexp = exp_params[0]*np.exp(exp_params[1]*xfit)\n",
        "log_params, log_cov = curve_fit(logf, load, extension, sigma=exerr, absolute_sigma=True)\n",
        "ylog = log_params[0]*np.log(log_params[1]*xfit)\n",
        "power_params, power_cov = curve_fit(powerf, load, extension, sigma=exerr, absolute_sigma=True)\n",
        "ypower = power_params[0]*xfit**power_params[1]\n",
        "p0 = np.array([0.01, 0.5, 0.25, 0.1])\n",
        "sig_params, sig_cov = curve_fit(sigf, load, extension, p0, sigma=exerr, absolute_sigma=True)\n",
        "ysig = sig_params[0] + sig_params[1]/(1+np.exp(-(xfit-sig_params[2])/sig_params[3]))\n",
        "poly3_params, poly3_cov = curve_fit(poly3f, load, extension, sigma=exerr, absolute_sigma=True)\n",
        "ypoly3 = poly3_params[0] + poly3_params[1]*xfit + poly3_params[2]*xfit**2 + poly3_params[3]*xfit**3\n",
        "poly6_params, poly6_cov = curve_fit(poly6f, load, extension, sigma=exerr, absolute_sigma=True)\n",
        "ypoly6 = poly6_params[0] + poly6_params[1]*xfit + poly6_params[2]*xfit**2 + poly6_params[3]*xfit**3 + poly6_params[4]*xfit**4 + poly6_params[5]*xfit**5 + poly6_params[6]*xfit**6\n",
        "\n",
        "\n",
        "# add a subplot with no frame\n",
        "ax1 = plt.subplot(421)\n",
        "ax2 = plt.subplot(422)\n",
        "ax3 = plt.subplot(423)\n",
        "ax4 = plt.subplot(424)\n",
        "ax5 = plt.subplot(425)\n",
        "ax6 = plt.subplot(426)\n",
        "ax7 = plt.subplot(427)\n",
        "ax8 = plt.subplot(428)\n",
        "\n",
        "\n",
        "ax1.errorbar(load, extension, fmt='ok', yerr=exerr)\n",
        "ax1.set_ylabel('Extension (m)')\n",
        "ax1.tick_params(labelleft=True, left=True, bottom=True, labelbottom=False)\n",
        "ax1.annotate('(a)', xy=(0, 0), xytext=(0.025, 0.45), textcoords='data')\n",
        "ax1.set_xlim(0, 0.5)\n",
        "ax1.set_ylim(0, 0.5)\n",
        "\n",
        "ax2.errorbar(load, extension, fmt='ok', yerr=exerr)\n",
        "ax2.plot(xfit, yline, '-k')\n",
        "ax2.tick_params(labelleft=False, left=True, bottom=True, labelbottom=False)\n",
        "ax2.set_xlim(0, 0.5)\n",
        "ax2.set_ylim(0, 0.5)\n",
        "ax2.annotate('(b)', xy=(0, 0), xytext=(0.025, 0.45), textcoords='data')\n",
        "\n",
        "ax3.errorbar(load, extension, fmt='ok', yerr=exerr)\n",
        "ax3.plot(xfit, yexp, '-k')\n",
        "ax3.set_ylabel('Extension (m)')\n",
        "ax3.tick_params(labelleft=True, left=True, bottom=True, labelbottom=False)\n",
        "ax3.set_xlim(0,0.5)\n",
        "ax3.set_ylim(0, 0.5)\n",
        "ax3.annotate('(c)', xy=(0, 0), xytext=(0.025, 0.45), textcoords='data')\n",
        "\n",
        "ax4.errorbar(load, extension, fmt='ok', yerr=exerr)\n",
        "ax4.plot(xfit, ylog, '-k')\n",
        "ax4.tick_params(labelleft=False, left=True, bottom=True, labelbottom=False)\n",
        "ax4.set_xlim(0,0.5)\n",
        "ax4.set_ylim(0,0.5)\n",
        "ax4.annotate('(d)', xy=(0,0), xytext=(0.025, 0.45), textcoords='data')\n",
        "\n",
        "ax5.errorbar(load, extension, fmt='ok', yerr=exerr)\n",
        "ax5.plot(xfit, ypower, '-k')\n",
        "ax5.set_xlim(0,0.5)\n",
        "ax5.set_ylim(0,0.5)\n",
        "ax5.set_ylabel('Extension (m)')\n",
        "ax5.tick_params(labelleft=True, left=True, bottom=True, labelbottom=False)\n",
        "ax5.annotate('(e)', xy=(0,0), xytext=(0.025, 0.45), textcoords='data')\n",
        "\n",
        "ax6.errorbar(load, extension, fmt='ok', yerr=exerr)\n",
        "ax6.plot(xfit, ysig, '-k')\n",
        "ax6.set_xlim(0,0.5)\n",
        "ax6.set_ylim(0,0.5)\n",
        "ax6.tick_params(labelleft=False, left=True, bottom=True, labelbottom=False)\n",
        "ax6.annotate('(f)', xy=(0,0), xytext=(0.025, 0.45), textcoords='data')\n",
        "\n",
        "ax7.errorbar(load, extension, fmt='ok', yerr=exerr)\n",
        "ax7.plot(xfit, ypoly3, '-k')\n",
        "ax7.set_xlim(0,0.5)\n",
        "ax7.set_ylim(0,0.5)\n",
        "ax7.set_ylabel('Extension (m)')\n",
        "ax7.set_xlabel('Load (kg)')\n",
        "ax7.tick_params(labelleft=True, left=True, bottom=True, labelbottom=True)\n",
        "ax7.annotate('(g)', xy=(0,0), xytext=(0.025, 0.45), textcoords='data')\n",
        "\n",
        "ax8.errorbar(load, extension, fmt='ok', yerr=exerr)\n",
        "ax8.plot(xfit, ypoly6, '-k')\n",
        "ax8.set_xlim(0,0.5)\n",
        "ax8.set_ylim(0,0.5)\n",
        "ax8.set_ylabel('Extension (m)')\n",
        "ax8.set_xlabel('Load (kg)')\n",
        "ax8.tick_params(labelleft=True, left=True, bottom=True, labelbottom=True)\n",
        "ax8.annotate('(h)', xy=(0,0), xytext=(0.025, 0.45), textcoords='data')\n",
        "\n",
        "plt.savefig('Fig6_12.png')\n",
        "plt.show()"
      ],
      "id": "1477db09"
    },
    {
      "cell_type": "code",
      "execution_count": null,
      "metadata": {
        "id": "fa5f8286"
      },
      "outputs": [],
      "source": [],
      "id": "fa5f8286"
    },
    {
      "cell_type": "code",
      "source": [],
      "metadata": {
        "id": "dp0Oizj9P77m"
      },
      "id": "dp0Oizj9P77m",
      "execution_count": null,
      "outputs": []
    },
    {
      "cell_type": "markdown",
      "id": "3ae84ece",
      "metadata": {
        "id": "3ae84ece"
      },
      "source": [
        "## Chapter 7"
      ]
    },
    {
      "cell_type": "code",
      "execution_count": null,
      "id": "74a13c71",
      "metadata": {
        "id": "74a13c71"
      },
      "outputs": [],
      "source": [
        "viscosity = 0.001 #Pa.s\n",
        "L = 1 #1 meter pipe\n",
        "R1 = 5e-4 #1 mm pipe diameter\n",
        "R2 = 10e-4 #2 mm pipe diameter\n",
        "R3 = 20e-4 #4 mm pipe diameter\n",
        "\n",
        "P1 = np.linspace(100, 10000, 7)\n",
        "P2 = np.linspace(10, 425, 7)\n",
        "P3 = np.linspace(1, 20, 7)\n",
        "\n",
        "PR4_1 = P1*R1**4\n",
        "PR4_2 = P2*R2**4\n",
        "PR4_3 = P3*R3**4\n",
        "\n",
        "Perr1 = np.ones(len(P1))*1e-11\n",
        "Perr2 = np.ones(len(P2))*1e-11\n",
        "Perr3 = np.ones(len(P3))*1e-11\n",
        "\n",
        "Q1 = np.pi*PR4_1/(8*viscosity*L)*np.array([1.1, 0.8, 1.08, 1.10, 0.97, 1, 1])\n",
        "Q1[5] = Q1[4]\n",
        "Q1[6] = Q1[4]\n",
        "Q2 = np.pi*PR4_2/(8*viscosity*L)*np.array([0.9, 0.8, 1.08, 0.97, 1.07, 1, 1.0])\n",
        "Q2[5] = Q2[4]\n",
        "Q2[6] = Q2[4]\n",
        "Q3 = np.pi*PR4_3/(8*viscosity*L)*np.array([1.2, 1.1, 1.08, 0.93, 0.96, 1.0, 1])\n",
        "Q3[5] = Q3[4]\n",
        "Q3[6] = Q3[4]\n",
        "\n",
        "Q1_err = np.ones(len(Q1))*1e-8\n",
        "Q2_err = np.ones(len(Q2))*1e-8\n",
        "Q3_err = np.ones(len(Q3))*1e-8\n",
        "\n",
        "x = np.arange(0, 6e-10, 1e-10)\n",
        "line_1 = 470*x-0.12e-7\n",
        "line_2 = 325*x+0.12e-7\n",
        "line_3 = 397.5*x\n",
        "string = ('Dependence of water flow\\n rate on pressure head and\\n channel diameter')\n",
        "\n",
        "plt.errorbar(PR4_1, Q1, yerr=Q1_err, xerr= Perr1, fmt='or', ms=10, mfc='none', capsize=2, barsabove=True,capthick=1, label='a = 0.5 mm')\n",
        "plt.errorbar(PR4_2, Q2, yerr=Q2_err, xerr= Perr2, fmt='sb', ms=10, capsize=2, barsabove=True,capthick=1, label='a = 1.0 mm')\n",
        "plt.errorbar(PR4_3, Q3, yerr=Q3_err, xerr= Perr3, fmt='*g', ms=10, capsize=2, barsabove=True,capthick=1, label='a = 2.0 mm')\n",
        "plt.plot(x, line_1, '-k')\n",
        "plt.plot(x, line_2, '-k')\n",
        "plt.plot(x, line_3, '-.k')\n",
        "plt.xlabel(r'$\\Delta P\\cdot a^4 {\\rm (Pa\\cdot m^4)}$')\n",
        "plt.ylabel(r'$Q {\\rm (m^3/s)}$')\n",
        "plt.legend()\n",
        "plt.annotate(string, (1.5e-10, 2.0e-7), bbox=dict(boxstyle=\"round4\", fc=\"w\"), wrap=True)\n",
        "plt.savefig('Fig7_2.png')\n",
        "plt.show()"
      ]
    },
    {
      "cell_type": "code",
      "execution_count": null,
      "id": "e51d144c",
      "metadata": {
        "id": "e51d144c"
      },
      "outputs": [],
      "source": []
    },
    {
      "cell_type": "markdown",
      "source": [],
      "metadata": {
        "id": "E84zvl0fSAvg"
      },
      "id": "E84zvl0fSAvg"
    },
    {
      "cell_type": "markdown",
      "source": [],
      "metadata": {
        "id": "e9L9xkdFSCtZ"
      },
      "id": "e9L9xkdFSCtZ"
    },
    {
      "cell_type": "markdown",
      "source": [
        "# Appendices\n"
      ],
      "metadata": {
        "id": "ppwvUB6RSC_R"
      },
      "id": "ppwvUB6RSC_R"
    },
    {
      "cell_type": "markdown",
      "source": [],
      "metadata": {
        "id": "n5QfqP2dSKfC"
      },
      "id": "n5QfqP2dSKfC"
    },
    {
      "cell_type": "code",
      "execution_count": null,
      "metadata": {
        "id": "c22e3955"
      },
      "outputs": [],
      "source": [
        "import numpy as np\n",
        "import matplotlib.pyplot as plt\n",
        "from scipy.optimize import curve_fit\n",
        "\n",
        "plt.rcParams.update({'font.size': 18})\n",
        "plt.rcParams[\"figure.figsize\"] = (10,10)"
      ],
      "id": "c22e3955"
    },
    {
      "cell_type": "markdown",
      "metadata": {
        "id": "5984a443"
      },
      "source": [
        "## Appendix 1"
      ],
      "id": "5984a443"
    },
    {
      "cell_type": "code",
      "execution_count": null,
      "metadata": {
        "id": "2969e209"
      },
      "outputs": [],
      "source": [
        "xA1_1 = np.linspace(0.1, 20, 50)\n",
        "yA1_1 = np.log(xA1_1)\n",
        "\n",
        "fig, ax = plt.subplots()\n",
        "ax.plot(xA1_1, yA1_1, '-k')\n",
        "for i in range(2, 9, 1):\n",
        "    ax.stem(i, np.log(i), linefmt='-k',markerfmt='-k', basefmt='-k', bottom=0)\n",
        "ax.stem(13, np.log(13), linefmt='-k',markerfmt='-k', basefmt='-k', bottom=0)\n",
        "ax.stem(14, np.log(14), linefmt='-k',markerfmt='-k', basefmt='-k', bottom=0)\n",
        "ax.set_xlim(0, 25)\n",
        "ax.set_ylim(-0.2, 3.75)\n",
        "ax.axhline(y=0.0, color='k', linestyle='-')\n",
        "ax.annotate(r'$x$', xy=(23,0), xytext=(24, -0.1), textcoords='data')\n",
        "ax.annotate(r'$\\log x$', xy=(0,3.0), xytext=(-1, 1.625), textcoords='data', rotation=90)\n",
        "ax.set_xticks(ticks=[2,3,4,5,6, 14], labels=['2','3','4','5','6','n'])\n",
        "ax.tick_params(labelleft=False, left=False, labelbottom=True, bottom=False)\n",
        "ax.spines['bottom'].set_position('zero')\n",
        "ax.spines['top'].set_visible(False)\n",
        "ax.spines['right'].set_visible(False)\n",
        "ax.spines['bottom'].set_visible(False)\n",
        "#ax.spines['left'].set_visible(False)\n",
        "plt.savefig('FigA1_1.png')\n",
        "plt.show()"
      ],
      "id": "2969e209"
    },
    {
      "cell_type": "code",
      "execution_count": null,
      "metadata": {
        "id": "345ec0c8"
      },
      "outputs": [],
      "source": [
        "sigma = 3\n",
        "mu = 0\n",
        "xA1_2 = np.linspace(-10, 10, 201)\n",
        "yA1_2 = 1/(sigma * np.sqrt(2 * np.pi)) * np.exp( - (xA1_2 - mu)**2 / (2 * sigma**2) )\n",
        "fillx = np.linspace(0, sigma, 21)\n",
        "filly = 1/(sigma * np.sqrt(2 * np.pi)) * np.exp( - (fillx - mu)**2 / (2 * sigma**2) )\n",
        "\n",
        "fig, ax = plt.subplots()\n",
        "ax.plot(xA1_2, yA1_2, '-b')\n",
        "ax.fill_between(fillx, filly, color='blue', edgecolor='black')\n",
        "ax.axvline(x=0.0, color='k', linestyle='-')\n",
        "ax.axhline(y=0.0, color='k', linestyle='-')\n",
        "ax.annotate(r'$x$', xy=(9,0), xytext=(9, -0.01), textcoords='data')\n",
        "ax.annotate(r'Probability', xy=(0,0.1), xytext=(-2, 0.14), textcoords='data')\n",
        "ax.set_xticks(ticks=[0], labels=['0'])\n",
        "ax.tick_params(labelleft=False, left=False, labelbottom=True, bottom=False)\n",
        "#ax.spines['bottom'].set_position('zero')\n",
        "ax.spines['top'].set_visible(False)\n",
        "ax.spines['left'].set_visible(False)\n",
        "ax.spines['right'].set_visible(False)\n",
        "ax.spines['bottom'].set_visible(False)\n",
        "plt.savefig('FigA1_2.png')\n",
        "plt.show()"
      ],
      "id": "345ec0c8"
    },
    {
      "cell_type": "code",
      "source": [
        "import numpy as np\n",
        "import matplotlib.pyplot as plt\n",
        "from scipy import stats\n",
        "import matplotlib.patches as patches\n",
        "\n",
        "# Create the figure and axis\n",
        "plt.figure(figsize=(10, 6))\n",
        "ax = plt.subplot(111)\n",
        "\n",
        "# Define the x range and calculate the Gaussian PDF\n",
        "x = np.linspace(-4, 4, 1000)\n",
        "sigma = 1.0\n",
        "mu = 0.0\n",
        "pdf = 1/(sigma * np.sqrt(2*np.pi)) * np.exp(-(x-mu)**2/(2*sigma**2))\n",
        "\n",
        "# Plot the Gaussian curve\n",
        "plt.plot(x, pdf, 'k-', lw=2, label='Gaussian Distribution')\n",
        "\n",
        "# Function to calculate the area (probability) between 0 and x_val\n",
        "def area_between_0_and_x(x_val):\n",
        "    return stats.norm.cdf(x_val) - stats.norm.cdf(0)\n",
        "\n",
        "# Choose x/sigma value to illustrate - let's use x/sigma = 1.0\n",
        "x_val = 1.0\n",
        "\n",
        "# Fill the area from 0 to x_val\n",
        "x_fill = np.linspace(0, x_val, 100)\n",
        "y_fill = 1/(sigma * np.sqrt(2*np.pi)) * np.exp(-(x_fill-mu)**2/(2*sigma**2))\n",
        "plt.fill_between(x_fill, y_fill, color='skyblue', alpha=0.6)\n",
        "\n",
        "# Add probability value text\n",
        "prob = area_between_0_and_x(x_val)\n",
        "plt.text(x_val/2, 0.15, f\"Area = {prob:.3f}\",\n",
        "         ha='center', va='center', fontsize=12,\n",
        "         bbox=dict(facecolor='white', alpha=0.8))\n",
        "\n",
        "# Add x/sigma = 1.0 vertical line\n",
        "plt.axvline(x=x_val, color='blue', linestyle='--', alpha=0.7)\n",
        "plt.axvline(x=0, color='blue', linestyle='--', alpha=0.7)\n",
        "\n",
        "# Annotate the endpoints\n",
        "plt.annotate('x/σ = 0', xy=(0, 0), xytext=(0, -0.02),\n",
        "             arrowprops=dict(arrowstyle='->'), ha='center')\n",
        "plt.annotate(f'x/σ = {x_val}', xy=(x_val, 0), xytext=(x_val, -0.02),\n",
        "             arrowprops=dict(arrowstyle='->'), ha='center')\n",
        "\n",
        "# Add a small table showing values\n",
        "table_data = [\n",
        "    ['x/σ', 'Probability'],\n",
        "    ['0.0', '0.000'],\n",
        "    ['0.5', '0.192'],\n",
        "    ['1.0', '0.341'],\n",
        "    ['1.5', '0.433'],\n",
        "    ['2.0', '0.477'],\n",
        "    ['3.0', '0.499']\n",
        "]\n",
        "\n",
        "# Create the table in the upper right corner\n",
        "table = plt.table(cellText=table_data, loc='upper right', cellLoc='center',\n",
        "                 colWidths=[0.1, 0.1], bbox=[0.7, 0.55, 0.28, 0.35])\n",
        "table.auto_set_font_size(False)\n",
        "table.set_fontsize(10)\n",
        "table.scale(1, 1.5)\n",
        "\n",
        "# Customize the plot\n",
        "plt.grid(alpha=0.3)\n",
        "plt.title('Area Under the Gaussian Distribution Curve', fontsize=14)\n",
        "plt.xlabel('x/σ (Standard Deviations from Mean)', fontsize=12)\n",
        "plt.ylabel('Probability Density', fontsize=12)\n",
        "plt.xlim(-3, 3)\n",
        "plt.ylim(-0.03, 0.45)\n",
        "\n",
        "# Add a descriptive caption as text under the plot\n",
        "plt.figtext(0.5, 0.01,\n",
        "           \"Figure A1.1: The shaded area represents the probability of a \\n\"\n",
        "           \"deviation falling between 0 and x=1σ (34.1% of total area).\",\n",
        "           ha='center', fontsize=11)\n",
        "\n",
        "# Add an explanation of the concept\n",
        "plt.text(-2.8, 0.3,\n",
        "        \"The probability that a measurement\\n\"\n",
        "        \"falls between 0 and x is given by:\\n\"\n",
        "        r\"$\\int_0^x \\frac{1}{\\sqrt{2\\pi\\sigma^2}}e^{-\\frac{t^2}{2\\sigma^2}}dt$\",\n",
        "        fontsize=10, bbox=dict(facecolor='lightyellow', alpha=0.9))\n",
        "\n",
        "plt.tight_layout(rect=[0, 0.03, 1, 0.97])\n",
        "plt.savefig('gaussian_area.svg', dpi=300)\n",
        "plt.show()"
      ],
      "metadata": {
        "id": "qNsRvC5cSgVO"
      },
      "id": "qNsRvC5cSgVO",
      "execution_count": null,
      "outputs": []
    },
    {
      "cell_type": "markdown",
      "metadata": {
        "id": "f6136d80"
      },
      "source": [
        "## Appendix 2"
      ],
      "id": "f6136d80"
    },
    {
      "cell_type": "markdown",
      "metadata": {
        "id": "9284d5f5"
      },
      "source": [
        "## Appendix 3"
      ],
      "id": "9284d5f5"
    },
    {
      "cell_type": "code",
      "execution_count": null,
      "metadata": {
        "id": "57d00374"
      },
      "outputs": [],
      "source": [
        "x = np.linspace(0.1,1.25,100)\n",
        "y = x**2\n",
        "\n",
        "x1 = np.linspace(0,1,10)\n",
        "hline1 = np.ones(len(x1))\n",
        "\n",
        "plt.plot(x1,hline1, '-k')\n",
        "plt.stem([1], [1], linefmt='-k',markerfmt='-k', basefmt='-k', bottom=0)\n",
        "plt.xlim(0,1.3)\n",
        "plt.ylim(0,2.0)\n",
        "plt.xlabel(r'$x$')\n",
        "#plt.ylabel('z')\n",
        "plt.annotate(r'$a$', xy=(1, 1.), xytext=(0.76, -0.04), textcoords='axes fraction')\n",
        "plt.annotate(r'$f(a)$', xy=(1, 1.), xytext=(-0.06, 0.49), textcoords='axes fraction')\n",
        "plt.annotate(r'$y$', xy=(1, 1.), xytext=(-0.04, 0.95), textcoords='axes fraction')\n",
        "#vertical arrow\n",
        "#plt.arrow(0.5, 1, 0, 0.145, color='black', width = arr_width, head_width = 3 * arr_width, head_length = 9 * arr_width)\n",
        "#plt.arrow(0.5, 1.19, 0, -0.145, color='black', width = arr_width, head_width = 3 * arr_width, head_length = 9 * arr_width)\n",
        "#plt.annotate(r'$\\delta z$', xy=(0.35, 1.145), xytext=(0.30, 0.53), textcoords='axes fraction')\n",
        "#horizontal arrow\n",
        "#plt.arrow(1, 0.5, 0.05, 0, color='black', width = arr_width, head_width = 3 * arr_width, head_length = 9 * arr_width)\n",
        "#plt.arrow(1.09, 0.5, -0.05, 0, color='black', width = arr_width, head_width = 3 * arr_width, head_length = 9 * arr_width)\n",
        "#plt.annotate(r'$\\delta x$', xy=(1, 1.), xytext=(0.79, 0.27), textcoords='axes fraction')\n",
        "plt.plot(x,y, '-r', lw=5, label=r'$y=f(x)$')\n",
        "plt.legend()\n",
        "plt.tick_params(labelleft=False, left=False, labelbottom=False, bottom=False)\n",
        "plt.savefig('FigA3_1.png')\n",
        "plt.show()"
      ],
      "id": "57d00374"
    },
    {
      "cell_type": "code",
      "execution_count": null,
      "metadata": {
        "id": "70b62606"
      },
      "outputs": [],
      "source": [
        "xA32 = np.array([0.5, 0.6, 0.7, 0.8])\n",
        "yA32 = xA32**2\n",
        "\n",
        "xh = np.linspace(0.4,0.5,2)\n",
        "hlineh = np.ones(len(xh))*yA32[0]\n",
        "x2h = np.linspace(0.4,0.6,2)\n",
        "hline2h = np.ones(len(x2h))*yA32[1]\n",
        "x3h = np.linspace(0.4,0.7,2)\n",
        "hline3h = np.ones(len(x3h))*yA32[2]\n",
        "x4h = np.linspace(0.4,0.8,2)\n",
        "hline4h = np.ones(len(x4h))*yA32[3]\n",
        "\n",
        "plt.plot(xA32,yA32, 'or')\n",
        "plt.plot(xh,hlineh, '-k')\n",
        "plt.plot(x2h,hline2h, '-k')\n",
        "plt.plot(x3h,hline3h, '-k')\n",
        "plt.plot(x4h,hline4h, '-k')\n",
        "plt.stem(0.5, 0.25, linefmt='-k',markerfmt='-k', basefmt='-k', bottom=0.1)\n",
        "plt.stem(0.6, 0.36, linefmt='-k',markerfmt='-k', basefmt='-k', bottom=0.1)\n",
        "plt.stem(0.7, 0.49, linefmt='-k',markerfmt='-k', basefmt='-k', bottom=0.1)\n",
        "plt.stem(0.8, 0.64, linefmt='-k',markerfmt='-k', basefmt='-k', bottom=0.1)\n",
        "plt.xlim(0.4,0.9)\n",
        "plt.ylim(0.1,0.75)\n",
        "#plt.xlabel(r'$x$')\n",
        "#plt.ylabel(r'$y$')\n",
        "plt.annotate(r'$x$', xy=(0.8,0.1), xytext=(0.885, 0.08), textcoords='data')\n",
        "plt.annotate(r'$y$', xy=(0.4,0.73), xytext=(0.38, 0.73), textcoords='data')\n",
        "plt.annotate(r'$a$', xy=(0.48, 0.1), xytext=(0.495, 0.085), textcoords='data')\n",
        "plt.annotate(r'$f(a)$', xy=(0.4, 0.25), xytext=(0.36, 0.24), textcoords='data')\n",
        "plt.annotate(r'$a+h$', xy=(0.58, 0.1), xytext=(0.58, 0.085), textcoords='data')\n",
        "plt.annotate(r'$f(a+h)$', xy=(0.4, 0.36), xytext=(0.34, 0.355), textcoords='data')\n",
        "plt.annotate(r'$a+2h$', xy=(0.7, 0.1), xytext=(0.68, 0.085), textcoords='data')\n",
        "plt.annotate(r'$f(a+2h)$', xy=(0.4, 0.49), xytext=(0.325, 0.48), textcoords='data')\n",
        "plt.annotate(r'$a+3h$', xy=(0.7, 0.1), xytext=(0.78, 0.085), textcoords='data')\n",
        "plt.annotate(r'$f(a+3h)$', xy=(0.4, 0.64), xytext=(0.325, 0.63), textcoords='data')\n",
        "plt.tick_params(labelleft=False, left=False, labelbottom=False, bottom=False)\n",
        "plt.savefig('FigA3_2.png')\n",
        "plt.show()"
      ],
      "id": "70b62606"
    },
    {
      "cell_type": "code",
      "execution_count": null,
      "metadata": {
        "id": "5dedeb34"
      },
      "outputs": [],
      "source": [
        "x = np.linspace(0.1,1,100)\n",
        "y = x**2\n",
        "\n",
        "x1 = np.linspace(0.4,0.7,10)\n",
        "hline1 = np.ones(len(x1))*0.16\n",
        "\n",
        "plt.plot(x1,hline1, '-k')\n",
        "plt.stem([0.4], [0.16], linefmt='-k',markerfmt='-k', basefmt='-k', bottom=0)\n",
        "plt.stem([0.7], [0.49], linefmt='-k',markerfmt='-k', basefmt='-k', bottom=0)\n",
        "plt.xlim(0,0.9)\n",
        "plt.ylim(-0.0,0.9)\n",
        "plt.annotate(r'$y$', xy=(0.01, 0.9), xytext=(-0.03, 0.85), textcoords='data')\n",
        "plt.annotate(r'$x$', xy=(0.9, 0.01), xytext=(0.85,-0.03), textcoords='data')\n",
        "plt.annotate(r'$a$', xy=(0.32, -0.0), xytext=(0.39,-0.03), textcoords='data')\n",
        "plt.annotate(r'$a+h$', xy=(0.7, -0.0), xytext=(0.67,-0.03), textcoords='data')\n",
        "arr_width=0.0025\n",
        "#vertical arrow f(a)\n",
        "plt.arrow(0.36, 0.0, 0, 0.1475, color='black', width = arr_width, head_width = 4 * arr_width, head_length = 5 * arr_width)\n",
        "plt.arrow(0.36, 0.16, 0, -0.1475, color='black', width = arr_width, head_width = 4 * arr_width, head_length = 5 * arr_width)\n",
        "plt.annotate(r'$f(a)$', xy=(0.36, 0.07), xytext=(0.333, 0.07), textcoords='data',bbox=dict(boxstyle='round,pad=0.2', fc='white', alpha=1.0))\n",
        "#horizontal arrow h\n",
        "plt.arrow(0.4, 0.13, 0.2875, 0, color='black', width = arr_width, head_width = 4 * arr_width, head_length = 5 * arr_width)\n",
        "plt.arrow(0.7, 0.13, -0.2875, 0, color='black', width = arr_width, head_width = 4 * arr_width, head_length = 5 * arr_width)\n",
        "plt.annotate(r'$h$', xy=(0.45, 0.13), xytext=(0.54, 0.12), textcoords='data',bbox=dict(boxstyle='round,pad=0.2', fc='white', alpha=1.0))\n",
        "##vertical arrow Delta\n",
        "plt.arrow(0.75, 0.165, 0, 0.3175, color='black', width = arr_width, head_width = 4 * arr_width, head_length = 5 * arr_width)\n",
        "plt.arrow(0.75, 0.495, 0, -0.3175, color='black', width = arr_width, head_width = 4 * arr_width, head_length = 5 * arr_width)\n",
        "plt.annotate(r'$\\Delta$', xy=(0.73, 0.7), xytext=(0.74, 0.3), textcoords='data',bbox=dict(boxstyle='round,pad=0.2', fc='white', alpha=1.0))\n",
        "#vertical arrow f(a+h)\n",
        "plt.arrow(0.8, 0, 0.0, 0.4825, color='black', width = arr_width, head_width = 4 * arr_width, head_length = 5 * arr_width)\n",
        "plt.arrow(0.8, 0.495, 0, -0.4825, color='black', width = arr_width, head_width = 4 * arr_width, head_length = 5 * arr_width)\n",
        "plt.annotate(r'$f(a+h)$', xy=(0.8, 0.15), xytext=(0.77, 0.16), textcoords='data', bbox=dict(boxstyle='round,pad=0.2', fc='white', alpha=1.0))\n",
        "plt.plot(x,y, '-r', lw=2, label=r'$y=f(x)$')\n",
        "plt.tick_params(labelleft=False, left=False, labelbottom=False, bottom=False)\n",
        "plt.savefig('FigA3_3.png')\n",
        "plt.show()"
      ],
      "id": "5dedeb34"
    },
    {
      "cell_type": "code",
      "execution_count": null,
      "metadata": {
        "id": "cb26d2f4"
      },
      "outputs": [],
      "source": [
        "xA34 = np.linspace(1, 10, 10)\n",
        "yA34 = np.array([1, 2.5, 3.2, 3.3, 3.6, 5, 7, 9, 10.6, 11])\n",
        "\n",
        "def poly2(x, a, b, c):\n",
        "    return a*x**0 + b*x**1 + c*x**2\n",
        "\n",
        "def poly6(x, a, b, c, d, e, f, g):\n",
        "    return a*x**0 + b*x**1 + c*x**2 + d*x**2 + e*x**4 + f*x**5 + g*x**6\n",
        "\n",
        "\n",
        "fit2, cov2 = curve_fit(poly2, xA34, yA34)\n",
        "fit6, cov6 = curve_fit(poly6, xA34, yA34)\n",
        "\n",
        "x2 = np.linspace(0.5, 10.5, 100)\n",
        "y2 = poly2(x2, fit2[0], fit2[1], fit2[2])\n",
        "\n",
        "x6 = np.linspace(0.5, 10.5, 100)\n",
        "y6 = poly6(x2, fit6[0], fit6[1], fit6[2], fit6[3], fit6[4], fit6[5], fit6[6])\n",
        "\n",
        "\n",
        "plt.plot(xA34, yA34, 'ok')\n",
        "plt.plot(x2, y2, '-.k')\n",
        "plt.plot(x2, y6, '-k')\n",
        "plt.tick_params(labelleft=False, left=False, labelbottom=False, bottom=False)\n",
        "plt.savefig('FigA3_4.png')\n",
        "plt.show()"
      ],
      "id": "cb26d2f4"
    },
    {
      "cell_type": "markdown",
      "metadata": {
        "id": "f8db5b24"
      },
      "source": [
        "## Appendix 4"
      ],
      "id": "f8db5b24"
    },
    {
      "cell_type": "code",
      "execution_count": null,
      "metadata": {
        "id": "f6775c26"
      },
      "outputs": [],
      "source": [
        "#Data\n",
        "m = np.arange(0.1, 0.55, 0.05)\n",
        "N = 10\n",
        "t = np.array([8.2, 9.8, 10.7, 11.5, 12.5, 13.0, 13.8, 14.5, 15.2])\n",
        "t_unc = np.ones(len(t))*0.3\n",
        "#calculation of period\n",
        "T2 = (t/N)**2\n",
        "T2_unc = 2*t/N**2*t_unc\n",
        "#fit lines\n",
        "x = np.linspace(0.1, 2.6, 10)\n",
        "line_1 = 0.272*x-0.102\n",
        "line_2 = 0.22*x-0.033\n",
        "line_3 = 0.246*x-0.0675\n",
        "#plot\n",
        "plt.errorbar(T2, m, xerr=T2_unc, fmt='ob', capsize=2.0, capthick=2.0)\n",
        "plt.plot(x, line_1, '-k')\n",
        "plt.plot(x, line_2, '-k')\n",
        "plt.plot(x, line_3, '-.k')\n",
        "plt.xlabel(r'Period, $T^2 (s^2)$')\n",
        "plt.ylabel('Load, m (kg)')\n",
        "plt.title('Oscillating spring-mass')\n",
        "plt.annotate(r'$y = 0.246\\pm 0.026 x - 0.0675\\pm 0.0345$', xy=(0.25, 0.55))\n",
        "plt.grid(True)\n",
        "plt.savefig('FigA4_2.png')\n",
        "plt.show()"
      ],
      "id": "f6775c26"
    },
    {
      "cell_type": "code",
      "execution_count": null,
      "metadata": {
        "id": "72859247"
      },
      "outputs": [],
      "source": [
        "print('k=', 0.246*4*np.pi**2)\n",
        "print('dk=',0.026*4*np.pi**2)"
      ],
      "id": "72859247"
    },
    {
      "cell_type": "code",
      "execution_count": null,
      "metadata": {
        "id": "ed328184"
      },
      "outputs": [],
      "source": [
        "import numpy as np\n",
        "import matplotlib.pyplot as plt\n",
        "from scipy.optimize import curve_fit\n",
        "from scipy import stats\n",
        "\n",
        "# Load experimental data\n",
        "masses = np.array([0.10, 0.15, 0.20, 0.25, 0.30, 0.35, 0.40, 0.45, 0.50])\n",
        "periods_squared = np.array([0.672, 0.960, 1.145, 1.323, 1.563, 1.690, 1.904, 2.103, 2.310])\n",
        "uncertainties = np.array([0.005, 0.006, 0.006, 0.007, 0.008, 0.008, 0.008, 0.009, 0.009])\n",
        "\n",
        "# Define linear model function\n",
        "def linear_model(x, slope, intercept):\n",
        "    return slope * x + intercept\n",
        "\n",
        "# Perform weighted least-squares fit\n",
        "weights = 1 / (uncertainties**2)\n",
        "popt, pcov = curve_fit(linear_model, periods_squared, masses,\n",
        "                        sigma=uncertainties, absolute_sigma=True)\n",
        "\n",
        "slope, intercept = popt\n",
        "slope_err, intercept_err = np.sqrt(np.diag(pcov))\n",
        "\n",
        "# Calculate spring constant and its uncertainty\n",
        "k = 4 * np.pi**2 * slope\n",
        "k_err = 4 * np.pi**2 * slope_err\n",
        "\n",
        "# Calculate coefficient of determination (R²)\n",
        "residuals = masses - linear_model(periods_squared, *popt)\n",
        "ss_res = np.sum(residuals**2)\n",
        "ss_tot = np.sum((masses - np.mean(masses))**2)\n",
        "r_squared = 1 - (ss_res / ss_tot)\n",
        "\n",
        "# Generate prediction intervals (95% confidence)\n",
        "t_value = stats.t.ppf(0.975, len(masses)-2)\n",
        "prediction_intervals = t_value * np.sqrt(1/weights +\n",
        "                      (periods_squared - np.mean(periods_squared))**2 /\n",
        "                      np.sum(weights * (periods_squared - np.mean(periods_squared))**2))\n",
        "\n",
        "# Plot results with error bars and confidence intervals\n",
        "plt.figure(figsize=(10, 7))\n",
        "plt.errorbar(periods_squared, masses, xerr=uncertainties, fmt='o',\n",
        "             markersize=6, capsize=3, label='Experimental data')\n",
        "\n",
        "# Plot best fit line\n",
        "x_fit = np.linspace(0.5, 2.5, 100)\n",
        "plt.plot(x_fit, linear_model(x_fit, *popt), 'r-',\n",
        "         label=f'Best fit: m = ({slope:.4f}±{slope_err:.4f})T² + ({intercept:.4f}±{intercept_err:.4f})')\n",
        "\n",
        "# Plot prediction intervals\n",
        "plt.fill_between(periods_squared,\n",
        "                 linear_model(periods_squared, *popt) - prediction_intervals,\n",
        "                 linear_model(periods_squared, *popt) + prediction_intervals,\n",
        "                 alpha=0.2, color='gray', label='95% confidence interval')\n",
        "\n",
        "plt.xlabel('Period squared, T² (s²)')\n",
        "plt.ylabel('Mass, m (kg)')\n",
        "plt.title('Determination of Spring Constant via Oscillation Method')\n",
        "plt.grid(True, alpha=0.3)\n",
        "plt.legend()\n",
        "plt.savefig('spring_constant_analysis.png', dpi=300)\n",
        "plt.show()\n",
        "\n",
        "print(f\"Spring constant k = {k:.2f} ± {k_err:.2f} N/m\")\n",
        "print(f\"Coefficient of determination R² = {r_squared:.6f}\")\n",
        "print(f\"Y-intercept = {intercept:.4f} ± {intercept_err:.4f} kg\")"
      ],
      "id": "ed328184"
    },
    {
      "cell_type": "code",
      "source": [],
      "metadata": {
        "id": "Va9iBXNaSHZD"
      },
      "id": "Va9iBXNaSHZD",
      "execution_count": null,
      "outputs": []
    }
  ],
  "metadata": {
    "kernelspec": {
      "display_name": "Python 3 (ipykernel)",
      "language": "python",
      "name": "python3"
    },
    "language_info": {
      "codemirror_mode": {
        "name": "ipython",
        "version": 3
      },
      "file_extension": ".py",
      "mimetype": "text/x-python",
      "name": "python",
      "nbconvert_exporter": "python",
      "pygments_lexer": "ipython3",
      "version": "3.8.16"
    },
    "colab": {
      "provenance": [],
      "toc_visible": true,
      "include_colab_link": true
    }
  },
  "nbformat": 4,
  "nbformat_minor": 5
}